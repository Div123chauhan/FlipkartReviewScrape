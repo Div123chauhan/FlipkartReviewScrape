{
  "nbformat": 4,
  "nbformat_minor": 0,
  "metadata": {
    "colab": {
      "name": "Glove(pr_4).ipynb",
      "provenance": [],
      "collapsed_sections": []
    },
    "kernelspec": {
      "name": "python3",
      "display_name": "Python 3"
    }
  },
  "cells": [
    {
      "cell_type": "code",
      "metadata": {
        "id": "w9mYlWIIQzwn",
        "outputId": "bd2f6e11-489f-4cd1-84da-c3e421eda784",
        "colab": {
          "base_uri": "https://localhost:8080/",
          "height": 241
        }
      },
      "source": [
        "#import glove\n",
        "!pip install glove-python"
      ],
      "execution_count": null,
      "outputs": [
        {
          "output_type": "stream",
          "text": [
            "Collecting glove-python\n",
            "\u001b[?25l  Downloading https://files.pythonhosted.org/packages/3e/79/7e7e548dd9dcb741935d031117f4bed133276c2a047aadad42f1552d1771/glove_python-0.1.0.tar.gz (263kB)\n",
            "\u001b[K     |████████████████████████████████| 266kB 2.8MB/s \n",
            "\u001b[?25hRequirement already satisfied: numpy in /usr/local/lib/python3.6/dist-packages (from glove-python) (1.18.5)\n",
            "Requirement already satisfied: scipy in /usr/local/lib/python3.6/dist-packages (from glove-python) (1.4.1)\n",
            "Building wheels for collected packages: glove-python\n",
            "  Building wheel for glove-python (setup.py) ... \u001b[?25l\u001b[?25hdone\n",
            "  Created wheel for glove-python: filename=glove_python-0.1.0-cp36-cp36m-linux_x86_64.whl size=700296 sha256=a0c244b3eb7a0d7b1c7899aa194aef37aedb8e56125acf0a19ef4c663462e445\n",
            "  Stored in directory: /root/.cache/pip/wheels/88/4b/6d/10c0d2ad32c9d9d68beec9694a6f0b6e83ab1662a90a089a4b\n",
            "Successfully built glove-python\n",
            "Installing collected packages: glove-python\n",
            "Successfully installed glove-python-0.1.0\n"
          ],
          "name": "stdout"
        }
      ]
    },
    {
      "cell_type": "code",
      "metadata": {
        "id": "HR7E4W5DRKH1",
        "outputId": "07183e37-4b77-426b-d08b-f6cf8eedc04f",
        "colab": {
          "base_uri": "https://localhost:8080/",
          "height": 122
        }
      },
      "source": [
        "# we need to pass splitted sentences to the model\n",
        "import nltk,csv,numpy\n",
        "nltk.download('punkt')\n",
        "from nltk import sent_tokenize, word_tokenize, pos_tag\n",
        "sentences=[]\n",
        "reader = csv.reader(open('/content/FlipkartReview.csv', 'rU'), delimiter= \",\",quotechar='|')\n",
        "for line in reader:\n",
        "    for field in line:\n",
        "      sentences.append(word_tokenize(field))\n",
        "print(sentences)\n",
        "lines=sentences"
      ],
      "execution_count": null,
      "outputs": [
        {
          "output_type": "stream",
          "text": [
            "[nltk_data] Downloading package punkt to /root/nltk_data...\n",
            "[nltk_data]   Unzipping tokenizers/punkt.zip.\n",
            "[['Title'], ['Review'], ['Rating'], ['Reviewer_name'], ['Very', 'Good'], ['``', 'I', 'ordered', 'this', 'mobile', 'for', 'my', 'sister', '.', '(', 'Online', 'classes', ')', 'It', 'works', 'well', 'for', 'day', 'to', 'day', 'use.Here', 'is', 'my', 'review', 'after', '10', 'days', 'of', 'use', ':', 'This', 'mobile', 'is', 'good', 'for', 'you'], ['but', 'if', 'you', 'are', 'planing', 'to', 'play', 'games', 'like', 'PUBG'], ['COD', 'ect', '.', 'Don', '’', 't', 'buy', 'this', 'Camera-', '3/5', 'camera', 'is', 'disappointing', 'both', 'front', 'and', 'back', '.', 'Also', 'the', 'front', 'camera', 'is', 'slow', 'as', 'well.Face', 'lock-', '3/5', 'average', 'one'], ['it', 'don', '’', 't', 'work', 'in', 'low', 'light', '.', 'Display-', '4/5', 'not', 'a', 'great', 'display', 'though', 'it', '’', 's', 'adjustable.Battery-', '4.5/5', 'it', 'has', 'good', 'battery', 'backup', '4000mah', 'but', 'a', '...', 'READ', 'MORE', \"''\"], ['4.3'], ['Flipkart', 'Customer'], ['Nice', 'product'], ['``', 'I', 'really', 'miss', 'the', 'finger', 'print', 'scanner', 'and', 'USB', 'type', 'c', 'port', '.', 'While', 'I', 'can', 'live', 'with', 'the', 'former'], ['the', 'later', 'is', 'a', 'crime', 'in', '2020.Apart', 'from', 'that'], ['everything', 'else', 'is', 'good', '.', 'I', 'really', 'liked', 'the', 'form', 'factor', '(', 'it', \"'s\", 'a', 'small', 'device', ')'], ['although', 'a', 'bit', 'slippery', '.', 'A', '5/5', 'for', 'the', 'display', '.', 'Battery', 'back-up', 'is', 'really', 'good', 'and', 'will', 'easily', 'last', '2', 'days', '(', 'with', 'medium', 'to', 'high', 'usage', ')', '.', 'Both', 'the', 'camera', 'works', 'well', 'in', 'outdoor', 'lighting', 'conditions', 'and', 'fails', 'to', 'perform', 'in', 'indoor', 'lighting', '.', 'Other', 'than', 'that'], ['the', 'camera', 'features', 'are', '...', 'READ', 'MORE', \"''\"], ['4'], ['Souvik', 'Das'], ['Perfect', 'product', '!'], ['I', 'ordered', 'this', 'phone', 'for', 'my', 'mom', '.', 'She', 'loves', 'it', '.', 'Samsung', 'has', 'really', 'made', 'a', 'good', 'handset', 'in', 'this', 'price', 'segment', '.', 'Lucky', 'to', 'grab', 'this', 'at', '8999', '.', 'Overall', 'experience', 'is', 'good', 'just', 'that', 'camera', 'quality', 'is', 'not', 'up', 'to', 'the', 'mark', 'as', 'far', 'as', 'brand', 'Samsung', 'is', 'concerned', '.', 'Also', 'I', 'am', 'happy', 'it', \"'s\", 'not', 'a', 'Chinese', 'product.READ', 'MORE'], ['4'], ['khusboo', 'kashyap'], ['Very', 'Good'], ['``', 'Bought', 'for', 'my', 'mom'], ['camera', 'quality', 'is', 'average'], ['there', 'is', 'a', 'small', 'heating', 'problem', 'but', 'its', 'not', 'a', 'big', 'deal'], ['Charging', 'is', 'slow', '.', 'video', 'quality', 'excellent'], ['good', 'battery', 'backup'], ['if', 'you', 'are', 'a', 'heavy', 'user', 'and', 'a', 'gamer', 'its', 'not', 'a', 'good', 'option', '.', 'Perfect', 'choice', 'for', 'elderly', 'and', 'regular', 'average', 'users'], ['you', 'can', 'get', 'better', 'phone', 'with', 'the', 'same', 'price', 'which', 'have', 'better', 'performance', 'but', 'almost', 'all', 'phones', 'are', 'from', 'chinese', 'brands', '.', 'All', 'cons', 'I', 'have', 'mentioned', 'above', 'is', 'nothing', 'if', 'we', 'compare', 'with', 'our', 'love', 'for', 'mother', 'india'], ['BOY', '...', 'READ', 'MORE', \"''\"], ['5'], ['Flipkart', 'Customer'], ['Awesome'], ['I', 'am', 'truly', 'satisfied', 'with', 'the', 'performance', 'of', 'the', 'phone.First', 'its', 'budget', 'phone', 'so', 'dont', 'expect', 'much', 'from', 'this', 'phone', '...', '.', 'coz', 'its', 'doesnt', 'have', 'feautures', 'like', 'finger', 'print', 'and', 'ctype', 'quick', 'charge', 'and', 'camera', 'quality', 'is', 'also', 'okay', 'but', 'not', 'bad', '...', '.', 'If', 'u', 'really', 'looking', 'for', 'small', 'screen', 'phones', 'its', 'the', 'best', 'one', 'with', 'snapdragon', '439', '(', '12nm', ')', 'processor', 'with', 'better', 'performance', 'than', 'mtk', 'and', 'exynos', '...', 'so', 'i', 'recommend', 'this', 'who', 'really', 'likes', 'small', 'screen', 'lovers', 'and', 'who', 'doesnt', 'like', 'extra', 'added', 'features', '...', 'Moreover', 'the', 'b', '...', 'READ', 'MORE'], ['4'], ['Thadiparthi', 'Tharun'], ['Excellent'], ['``', 'Worth', 'for', 'money.But', 'no', 'fingerprint', 'sensor', '.', 'But', 'has', 'a', 'nice', 'battery', 'capacity', '.', 'I', 'am', 'not', 'into', 'playing', 'games', 'as', 'I', 'am', 'a', '9th', 'student', '.', 'But', 'nice', 'phone', 'with', 'no', 'lags', 'and', 'hangs', '.', 'If', 'you', 'get', 'it', 'in', '9000', 'or', 'below'], ['just', 'go', 'for', 'it', 'guyz.READ', 'MORE', \"''\"], ['5'], ['Supriya', 'Todkar'], ['Utterly', 'Disappointed'], ['``', 'Pros', ':', '-', 'Battery', 'with', '4000mAh', '--', '--', '4.5/5Display', 'clarity', '--', '--', '-', '3/5Cons', ':', '-1', ')', 'Pathetic/Worst', 'Camera'], ['Nokia', 'VGA', 'camera', 'is', 'much', 'better', 'wen', 'u', 'zoom', '.', 'I', 'believe', 'Samsung', 'is', 'purposely', 'reducing', 'the', 'quality', 'of', 'image', 'thru', 'there', 'World', \"'s\", 'worst', 'camera', 'app', '.', 'With', 'this', 'price', 'u', 'get', 'a', 'better', 'Camera', 'quality', 'phone', '.', 'I', 'tried', 'to', 'return', 'but', 'Flipkart', 'do', \"n't\", 'care', 'about', 'it', \"'s\", 'customers', '.', 'Best', 'thing', 'to', 'do', 'is'], ['Do', \"n't\", 'even', 'think', 'abt', 'taking', 'a', 'pic', 'at', 'night'], ['u', 'will', 'definitely', 'throw', 'the', 'phone', '.', '--', '--', '--', '--', '--', '>', '-5/52', ')', 'Video', 'is', 'just', 'OMG', '...', 'READ', 'MORE', \"''\"], ['5'], ['Deepak', 'R'], ['Worth', 'the', 'money'], ['``', 'Its', 'been', 'more', 'than', 'a', 'week', 'since', 'i', 'bought', 'this', 'Mobile', 'phone', 'for', 'my', 'Mother', '.', 'I', 'like', 'the', 'look', 'and', 'feel', '.', 'The', 'performance', 'is', 'good', 'and', 'a', 'fine', 'display', '.', 'It', 'has', 'a', 'decent', 'battery', '.', 'I', \"'m\", 'little', 'bit', 'disappointed', 'with', 'the', 'camera', '.', 'Because', 'the', 'configuration', 'mentioned', 'for', 'rear', 'camera', 'is', '13', 'MP', '.', 'But', 'does', \"n't\", 'look', 'like', 'that..', 'The', 'picture', 'quality', 'is', 'low', 'and', 'not', 'up', 'to', 'the', 'mark', 'of', '13MP.The', 'speaker', 'is', 'pretty', 'average', '.', 'Not', 'so', 'effective', 'when', 'we', 'put', 'the', 'call', 'on', 'loudspeaker.But', 'over', 'all'], ['i', 'suggest', 'this', 'as', 'a', 'decent', 'ch', '...', 'READ', 'MORE', \"''\"], ['1'], ['T.N.ARUN', 'SUDHARSAN'], ['Terrible', 'product'], ['``', 'Hopeless', 'product', 'from', 'SamsungAt', 'this', 'price', 'range', 'there', 'are', 'much', 'better', 'options', 'available', '.', 'Please', 'dont', 'waste', 'you', 'money', 'on', 'this', '.', 'I', \"'ll\", 'put', 'down', 'my', 'feedback', 'here', '.', 'I', 'feel', 'more', 'terrible', 'because', 'i', 'brought', 'it', 'for', 'my', 'mother', 'and', 'that', 'too'], ['the', 'phone', 'was', 'on', 'Flash', 'Sale', '.', '(', '*facepalm*', ')', 'CameraEven', 'local', 'phones', 'these', 'days', 'have', 'good', 'camera', 'performance', 'but', 'this', 'one', 'has', 'below', 'standard', 'camera', '.', 'There', 'is', 'grains', 'in', 'the', 'screen', 'when', 'you', 'click', 'moderate-low', 'light', 'pics', '.', 'Build', 'qualityIt', 'has', 'a', 'plastic', 'back', 'and', 'you', '...', 'READ', 'MORE', \"''\"], ['4'], ['Abin', 'Rajan'], ['Nice', 'product'], ['The', 'camera', 'quality', 'is', 'poor', 'compared', 'to', 'other', 'brands', 'available', 'at', 'this', 'range', '.', 'The', 'phone', 'looks', 'decent', 'and', 'is', 'easy', 'to', 'use', 'single', 'handed', '.', 'Display', 'is', 'one', 'of', 'the', 'major', 'highlight', '.', 'Overall', 'if', 'you', 'are', 'a', 'Samsung', 'lover', 'and', 'looking', 'for', 'a', 'budget', 'smartphone', 'below', '10k', 'this', 'one', 'is', 'for', 'you', '.', 'They', 'are', 'not', 'providing', 'transparent', 'case', 'in', 'the', 'box.READ', 'MORE'], ['1'], ['Vignesh', 'V', 'Gopal']]\n"
          ],
          "name": "stdout"
        },
        {
          "output_type": "stream",
          "text": [
            "/usr/local/lib/python3.6/dist-packages/ipykernel_launcher.py:6: DeprecationWarning: 'U' mode is deprecated\n",
            "  \n"
          ],
          "name": "stderr"
        }
      ]
    },
    {
      "cell_type": "code",
      "metadata": {
        "id": "5fKvdWNNRfpl"
      },
      "source": [
        "#importing the glove library\n",
        "from glove import Corpus, Glove\n",
        "\n",
        "# creating a corpus object\n",
        "corpus = Corpus() \n",
        "\n",
        "#training the corpus to generate the co occurence matrix which is used in GloVe\n",
        "corpus.fit(lines, window=10)"
      ],
      "execution_count": null,
      "outputs": []
    },
    {
      "cell_type": "code",
      "metadata": {
        "id": "tNCj5PvgRikq",
        "outputId": "639cb754-711e-4b35-a3d2-83b82d5a068b",
        "colab": {
          "base_uri": "https://localhost:8080/",
          "height": 544
        }
      },
      "source": [
        "glove = Glove(no_components=30, learning_rate=0.05)\n",
        " \n",
        "glove.fit(corpus.matrix, epochs=30, no_threads=4, verbose=True)\n",
        "glove.add_dictionary(corpus.dictionary)\n",
        "glove.save('glove2582020.model')"
      ],
      "execution_count": null,
      "outputs": [
        {
          "output_type": "stream",
          "text": [
            "Performing 30 training epochs with 4 threads\n",
            "Epoch 0\n",
            "Epoch 1\n",
            "Epoch 2\n",
            "Epoch 3\n",
            "Epoch 4\n",
            "Epoch 5\n",
            "Epoch 6\n",
            "Epoch 7\n",
            "Epoch 8\n",
            "Epoch 9\n",
            "Epoch 10\n",
            "Epoch 11\n",
            "Epoch 12\n",
            "Epoch 13\n",
            "Epoch 14\n",
            "Epoch 15\n",
            "Epoch 16\n",
            "Epoch 17\n",
            "Epoch 18\n",
            "Epoch 19\n",
            "Epoch 20\n",
            "Epoch 21\n",
            "Epoch 22\n",
            "Epoch 23\n",
            "Epoch 24\n",
            "Epoch 25\n",
            "Epoch 26\n",
            "Epoch 27\n",
            "Epoch 28\n",
            "Epoch 29\n"
          ],
          "name": "stdout"
        }
      ]
    },
    {
      "cell_type": "code",
      "metadata": {
        "id": "vFy3zTm1RuPM"
      },
      "source": [
        "import warnings\n",
        "warnings.filterwarnings('ignore')\n",
        "from gensim.models.word2vec import Word2Vec\n",
        "import gensim.downloader as api"
      ],
      "execution_count": null,
      "outputs": []
    },
    {
      "cell_type": "code",
      "metadata": {
        "id": "tbZz-R0iRwdZ",
        "outputId": "26b38da2-38e5-4621-f8f4-a62a8496b997",
        "colab": {
          "base_uri": "https://localhost:8080/",
          "height": 357
        }
      },
      "source": [
        "!wget http://nlp.stanford.edu/data/glove.6B.zip"
      ],
      "execution_count": null,
      "outputs": [
        {
          "output_type": "stream",
          "text": [
            "--2020-10-01 08:28:52--  http://nlp.stanford.edu/data/glove.6B.zip\n",
            "Resolving nlp.stanford.edu (nlp.stanford.edu)... 171.64.67.140\n",
            "Connecting to nlp.stanford.edu (nlp.stanford.edu)|171.64.67.140|:80... connected.\n",
            "HTTP request sent, awaiting response... 302 Found\n",
            "Location: https://nlp.stanford.edu/data/glove.6B.zip [following]\n",
            "--2020-10-01 08:28:52--  https://nlp.stanford.edu/data/glove.6B.zip\n",
            "Connecting to nlp.stanford.edu (nlp.stanford.edu)|171.64.67.140|:443... connected.\n",
            "HTTP request sent, awaiting response... 301 Moved Permanently\n",
            "Location: http://downloads.cs.stanford.edu/nlp/data/glove.6B.zip [following]\n",
            "--2020-10-01 08:28:53--  http://downloads.cs.stanford.edu/nlp/data/glove.6B.zip\n",
            "Resolving downloads.cs.stanford.edu (downloads.cs.stanford.edu)... 171.64.64.22\n",
            "Connecting to downloads.cs.stanford.edu (downloads.cs.stanford.edu)|171.64.64.22|:80... connected.\n",
            "HTTP request sent, awaiting response... 200 OK\n",
            "Length: 862182613 (822M) [application/zip]\n",
            "Saving to: ‘glove.6B.zip’\n",
            "\n",
            "glove.6B.zip        100%[===================>] 822.24M  1.91MB/s    in 6m 29s  \n",
            "\n",
            "2020-10-01 08:35:22 (2.11 MB/s) - ‘glove.6B.zip’ saved [862182613/862182613]\n",
            "\n"
          ],
          "name": "stdout"
        }
      ]
    },
    {
      "cell_type": "code",
      "metadata": {
        "id": "i7dLgzlmTaFB",
        "outputId": "8c24b137-cba1-457a-e51f-0e4af2dac052",
        "colab": {
          "base_uri": "https://localhost:8080/",
          "height": 102
        }
      },
      "source": [
        "!unzip glove*.zip"
      ],
      "execution_count": null,
      "outputs": [
        {
          "output_type": "stream",
          "text": [
            "Archive:  glove.6B.zip\n",
            "  inflating: glove.6B.50d.txt        \n",
            "  inflating: glove.6B.100d.txt       \n",
            "  inflating: glove.6B.200d.txt       \n",
            "  inflating: glove.6B.300d.txt       \n"
          ],
          "name": "stdout"
        }
      ]
    },
    {
      "cell_type": "code",
      "metadata": {
        "id": "5l_LdF78Tj8h",
        "outputId": "a2f9ce9b-9afa-4986-b9f7-07d52683a852",
        "colab": {
          "base_uri": "https://localhost:8080/",
          "height": 51
        }
      },
      "source": [
        "import numpy as np\n",
        "\n",
        "print('Indexing word vectors.')\n",
        "\n",
        "embeddings_index = {}\n",
        "f = open('glove.6B.100d.txt', encoding='utf-8')\n",
        "for line in f:\n",
        "    values = line.split()\n",
        "    word = values[0]\n",
        "    coefs = np.asarray(values[1:], dtype='float32')\n",
        "    embeddings_index[word] = coefs\n",
        "f.close()\n",
        "\n",
        "print('Found %s word vectors.' % len(embeddings_index))"
      ],
      "execution_count": null,
      "outputs": [
        {
          "output_type": "stream",
          "text": [
            "Indexing word vectors.\n",
            "Found 400000 word vectors.\n"
          ],
          "name": "stdout"
        }
      ]
    },
    {
      "cell_type": "code",
      "metadata": {
        "id": "bv2FlMCaTrLD"
      },
      "source": [
        "from gensim.test.utils import datapath, get_tmpfile\n",
        "from gensim.models import KeyedVectors\n",
        "from gensim.scripts.glove2word2vec import glove2word2vec"
      ],
      "execution_count": null,
      "outputs": []
    },
    {
      "cell_type": "code",
      "metadata": {
        "id": "jLwqHgxyTvd4",
        "outputId": "2a4cf8ad-e7bd-44a0-8fed-b941cbfead3e",
        "colab": {
          "base_uri": "https://localhost:8080/",
          "height": 34
        }
      },
      "source": [
        "glove_file = datapath('/content/glove.6B.100d.txt')\n",
        "word2vec_glove_file = get_tmpfile(\"glove.6B.100d.word2vec.txt\")\n",
        "glove2word2vec(glove_file, word2vec_glove_file)"
      ],
      "execution_count": null,
      "outputs": [
        {
          "output_type": "execute_result",
          "data": {
            "text/plain": [
              "(400000, 100)"
            ]
          },
          "metadata": {
            "tags": []
          },
          "execution_count": 11
        }
      ]
    },
    {
      "cell_type": "code",
      "metadata": {
        "id": "MoTHkC67T2SA"
      },
      "source": [
        "model = KeyedVectors.load_word2vec_format(word2vec_glove_file)"
      ],
      "execution_count": null,
      "outputs": []
    },
    {
      "cell_type": "code",
      "metadata": {
        "id": "bk8lU_D8UL2I",
        "outputId": "f7c2aab8-3306-45e1-df14-ab943045b108",
        "colab": {
          "base_uri": "https://localhost:8080/",
          "height": 187
        }
      },
      "source": [
        "model.most_similar('woman')"
      ],
      "execution_count": null,
      "outputs": [
        {
          "output_type": "execute_result",
          "data": {
            "text/plain": [
              "[('girl', 0.847267210483551),\n",
              " ('man', 0.832349419593811),\n",
              " ('mother', 0.827568769454956),\n",
              " ('boy', 0.7720510959625244),\n",
              " ('she', 0.7632068395614624),\n",
              " ('child', 0.7601762413978577),\n",
              " ('wife', 0.7505022287368774),\n",
              " ('her', 0.7445706129074097),\n",
              " ('herself', 0.7426273822784424),\n",
              " ('daughter', 0.7264456748962402)]"
            ]
          },
          "metadata": {
            "tags": []
          },
          "execution_count": 13
        }
      ]
    },
    {
      "cell_type": "code",
      "metadata": {
        "id": "eyZx3nSKUYiA",
        "outputId": "80db3ed7-7343-4c4e-a528-f23f1a37e08c",
        "colab": {
          "base_uri": "https://localhost:8080/",
          "height": 187
        }
      },
      "source": [
        "model.most_similar('me')"
      ],
      "execution_count": null,
      "outputs": [
        {
          "output_type": "execute_result",
          "data": {
            "text/plain": [
              "[('you', 0.885116696357727),\n",
              " ('i', 0.877494215965271),\n",
              " (\"'m\", 0.8597097396850586),\n",
              " ('my', 0.8549207448959351),\n",
              " ('tell', 0.8507041335105896),\n",
              " ('know', 0.84942227602005),\n",
              " ('maybe', 0.8483158349990845),\n",
              " (\"'d\", 0.8462839126586914),\n",
              " ('myself', 0.8448219299316406),\n",
              " ('?', 0.8347437381744385)]"
            ]
          },
          "metadata": {
            "tags": []
          },
          "execution_count": 15
        }
      ]
    },
    {
      "cell_type": "code",
      "metadata": {
        "id": "ALZO3GHpUkdi",
        "outputId": "8ceef61e-03c0-4acc-91e6-3bfe474b9ed1",
        "colab": {
          "base_uri": "https://localhost:8080/",
          "height": 34
        }
      },
      "source": [
        "result = model.most_similar(positive=['wizard', 'witch'], negative=['woman'])\n",
        "print(\"{}: {:.4f}\".format(*result[0]))"
      ],
      "execution_count": null,
      "outputs": [
        {
          "output_type": "stream",
          "text": [
            "saruman: 0.5556\n"
          ],
          "name": "stdout"
        }
      ]
    },
    {
      "cell_type": "code",
      "metadata": {
        "id": "xZ9nvkYzUv88",
        "outputId": "fda39ed5-5b10-4044-879a-a2bb991eaa40",
        "colab": {
          "base_uri": "https://localhost:8080/",
          "height": 187
        }
      },
      "source": [
        "model.most_similar(negative='man')"
      ],
      "execution_count": null,
      "outputs": [
        {
          "output_type": "execute_result",
          "data": {
            "text/plain": [
              "[('brandir', 0.6830242872238159),\n",
              " ('keyrates', 0.6825617551803589),\n",
              " ('muradova', 0.6532115340232849),\n",
              " ('þórður', 0.6529618501663208),\n",
              " ('chinese-americans', 0.6431829929351807),\n",
              " ('griaule', 0.6419955492019653),\n",
              " ('eadmer', 0.6414217948913574),\n",
              " ('domico', 0.6406949758529663),\n",
              " ('sungrebe', 0.638822078704834),\n",
              " ('umbrians', 0.6379883289337158)]"
            ]
          },
          "metadata": {
            "tags": []
          },
          "execution_count": 18
        }
      ]
    }
  ]
}