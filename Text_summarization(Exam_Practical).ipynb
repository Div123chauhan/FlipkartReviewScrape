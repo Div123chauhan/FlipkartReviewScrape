{
  "nbformat": 4,
  "nbformat_minor": 0,
  "metadata": {
    "colab": {
      "name": "Text_summarization(Exam_Practical).ipynb",
      "provenance": []
    },
    "kernelspec": {
      "name": "python3",
      "display_name": "Python 3"
    }
  },
  "cells": [
    {
      "cell_type": "code",
      "metadata": {
        "colab": {
          "base_uri": "https://localhost:8080/"
        },
        "id": "_AjevhmB4Lc8",
        "outputId": "333ca236-f458-418e-d70c-5a02349c509f"
      },
      "source": [
        "import nltk\r\n",
        "nltk.download('stopwords')\r\n",
        "  "
      ],
      "execution_count": 1,
      "outputs": [
        {
          "output_type": "stream",
          "text": [
            "[nltk_data] Downloading package stopwords to /root/nltk_data...\n",
            "[nltk_data]   Unzipping corpora/stopwords.zip.\n"
          ],
          "name": "stdout"
        },
        {
          "output_type": "execute_result",
          "data": {
            "text/plain": [
              "True"
            ]
          },
          "metadata": {
            "tags": []
          },
          "execution_count": 1
        }
      ]
    },
    {
      "cell_type": "code",
      "metadata": {
        "id": "7KoSE8we1NAv"
      },
      "source": [
        "from nltk.corpus import stopwords\r\n",
        "from nltk.cluster.util import cosine_distance\r\n",
        "import numpy as np\r\n",
        "import networkx as nx\r\n",
        " "
      ],
      "execution_count": 2,
      "outputs": []
    },
    {
      "cell_type": "code",
      "metadata": {
        "id": "bJIC86151WuS"
      },
      "source": [
        "def read_article(file_name):\r\n",
        "    file = open(file_name, \"r\")\r\n",
        "    filedata = file.readlines()\r\n",
        "    article = filedata[0].split(\". \")\r\n",
        "    sentences = []\r\n",
        "\r\n",
        "    for sentence in article:\r\n",
        "        print(sentence)\r\n",
        "        sentences.append(sentence.replace(\"[^a-zA-Z]\", \" \").split(\" \"))\r\n",
        "    sentences.pop() \r\n",
        "    \r\n",
        "    return sentences"
      ],
      "execution_count": 3,
      "outputs": []
    },
    {
      "cell_type": "code",
      "metadata": {
        "id": "8WWJJUqi1cCR"
      },
      "source": [
        "def sentence_similarity(sent1, sent2, stopwords=None):\r\n",
        "    if stopwords is None:\r\n",
        "        stopwords = []\r\n",
        " \r\n",
        "    sent1 = [w.lower() for w in sent1]\r\n",
        "    sent2 = [w.lower() for w in sent2]\r\n",
        " \r\n",
        "    all_words = list(set(sent1 + sent2))\r\n",
        " \r\n",
        "    vector1 = [0] * len(all_words)\r\n",
        "    vector2 = [0] * len(all_words)\r\n",
        " \r\n",
        "    # build the vector for the first sentence\r\n",
        "    for w in sent1:\r\n",
        "        if w in stopwords:\r\n",
        "            continue\r\n",
        "        vector1[all_words.index(w)] += 1\r\n",
        " \r\n",
        "    # build the vector for the second sentence\r\n",
        "    for w in sent2:\r\n",
        "        if w in stopwords:\r\n",
        "            continue\r\n",
        "        vector2[all_words.index(w)] += 1\r\n",
        " \r\n",
        "    return 1 - cosine_distance(vector1, vector2)"
      ],
      "execution_count": 4,
      "outputs": []
    },
    {
      "cell_type": "code",
      "metadata": {
        "id": "ZZC4iTjx1hUA"
      },
      "source": [
        "def build_similarity_matrix(sentences, stop_words):\r\n",
        "    # Create an empty similarity matrix\r\n",
        "    similarity_matrix = np.zeros((len(sentences), len(sentences)))\r\n",
        " \r\n",
        "    for idx1 in range(len(sentences)):\r\n",
        "        for idx2 in range(len(sentences)):\r\n",
        "            if idx1 == idx2: #ignore if both are same sentences\r\n",
        "                continue \r\n",
        "            similarity_matrix[idx1][idx2] = sentence_similarity(sentences[idx1], sentences[idx2], stop_words)\r\n",
        "\r\n",
        "    return similarity_matrix\r\n"
      ],
      "execution_count": 5,
      "outputs": []
    },
    {
      "cell_type": "code",
      "metadata": {
        "colab": {
          "base_uri": "https://localhost:8080/"
        },
        "id": "c25jEd7O1mKw",
        "outputId": "ce516e0e-b909-4874-ab42-7d9f00423e5e"
      },
      "source": [
        "def generate_summary(file_name, top_n=5):\r\n",
        "    stop_words = stopwords.words('english')\r\n",
        "    summarize_text = []\r\n",
        "\r\n",
        "    # Step 1 - Read text anc split it\r\n",
        "    sentences =  read_article(file_name)\r\n",
        "\r\n",
        "    # Step 2 - Generate Similary Martix across sentences\r\n",
        "    sentence_similarity_martix = build_similarity_matrix(sentences, stop_words)\r\n",
        "\r\n",
        "    # Step 3 - Rank sentences in similarity martix\r\n",
        "    sentence_similarity_graph = nx.from_numpy_array(sentence_similarity_martix)\r\n",
        "    scores = nx.pagerank(sentence_similarity_graph)\r\n",
        "\r\n",
        "    # Step 4 - Sort the rank and pick top sentences\r\n",
        "    ranked_sentence = sorted(((scores[i],s) for i,s in enumerate(sentences)), reverse=True)    \r\n",
        "    print(\"Indexes of top ranked_sentence order are \", ranked_sentence)    \r\n",
        "\r\n",
        "    for i in range(top_n):\r\n",
        "      summarize_text.append(\" \".join(ranked_sentence[i][1]))\r\n",
        "\r\n",
        "    # Step 5 - Offcourse, output the summarize texr\r\n",
        "    print(\"Summarize Text: \\n\", \". \".join(summarize_text))\r\n",
        "\r\n",
        "# let's begin\r\n",
        "generate_summary( \"/content/abc.txt\", 2)"
      ],
      "execution_count": 7,
      "outputs": [
        {
          "output_type": "stream",
          "text": [
            "In an attempt to build an AI-ready workforce, Microsoft announced Intelligent Cloud Hub which has been launched to empower the next generation of students with AI-ready skills\n",
            "Envisioned as a three-year collaborative program, Intelligent Cloud Hub will support around 100 institutions with AI infrastructure, course content and curriculum, developer support, development tools and give students access to cloud and AI services\n",
            "As part of the program, the Redmond giant which wants to expand its reach and is planning to build a strong developer ecosystem in India with the program will set up the core AI infrastructure and IoT Hub for the selected campuses\n",
            "The company will provide AI development tools and Azure AI services such as Microsoft Cognitive Services, Bot Services and Azure Machine Learning.According to Manish Prakash, Country General Manager-PS, Health and Education, Microsoft India, said, \"With AI being the defining technology of our time, it is transforming lives and industry and the jobs of tomorrow will require a different skillset\n",
            "This will require more collaborations and training and working with AI\n",
            "That’s why it has become more critical than ever for educational institutions to integrate new cloud and AI technologies\n",
            "The program is an attempt to ramp up the institutional set-up and build capabilities among the educators to educate the workforce of tomorrow.\" The program aims to build up the cognitive skills and in-depth understanding of developing intelligent cloud connected solutions for applications across industry\n",
            "Earlier in April this year, the company announced Microsoft Professional Program In AI as a learning track open to the public\n",
            "The program was developed to provide job ready skills to programmers who wanted to hone their skills in AI and data science with a series of online courses which featured hands-on labs and expert instructors as well\n",
            "This program also included developer-focused AI school that provided a bunch of assets to help build AI skills.\n",
            "Indexes of top ranked_sentence order are  [(0.15083257041122708, ['Envisioned', 'as', 'a', 'three-year', 'collaborative', 'program,', 'Intelligent', 'Cloud', 'Hub', 'will', 'support', 'around', '100', 'institutions', 'with', 'AI', 'infrastructure,', 'course', 'content', 'and', 'curriculum,', 'developer', 'support,', 'development', 'tools', 'and', 'give', 'students', 'access', 'to', 'cloud', 'and', 'AI', 'services']), (0.13161201335715553, ['The', 'company', 'will', 'provide', 'AI', 'development', 'tools', 'and', 'Azure', 'AI', 'services', 'such', 'as', 'Microsoft', 'Cognitive', 'Services,', 'Bot', 'Services', 'and', 'Azure', 'Machine', 'Learning.According', 'to', 'Manish', 'Prakash,', 'Country', 'General', 'Manager-PS,', 'Health', 'and', 'Education,', 'Microsoft', 'India,', 'said,', '\"With', 'AI', 'being', 'the', 'defining', 'technology', 'of', 'our', 'time,', 'it', 'is', 'transforming', 'lives', 'and', 'industry', 'and', 'the', 'jobs', 'of', 'tomorrow', 'will', 'require', 'a', 'different', 'skillset']), (0.11403047674961146, ['Earlier', 'in', 'April', 'this', 'year,', 'the', 'company', 'announced', 'Microsoft', 'Professional', 'Program', 'In', 'AI', 'as', 'a', 'learning', 'track', 'open', 'to', 'the', 'public']), (0.10721749759953528, ['In', 'an', 'attempt', 'to', 'build', 'an', 'AI-ready', 'workforce,', 'Microsoft', 'announced', 'Intelligent', 'Cloud', 'Hub', 'which', 'has', 'been', 'launched', 'to', 'empower', 'the', 'next', 'generation', 'of', 'students', 'with', 'AI-ready', 'skills']), (0.10404298514456578, ['As', 'part', 'of', 'the', 'program,', 'the', 'Redmond', 'giant', 'which', 'wants', 'to', 'expand', 'its', 'reach', 'and', 'is', 'planning', 'to', 'build', 'a', 'strong', 'developer', 'ecosystem', 'in', 'India', 'with', 'the', 'program', 'will', 'set', 'up', 'the', 'core', 'AI', 'infrastructure', 'and', 'IoT', 'Hub', 'for', 'the', 'selected', 'campuses']), (0.10031366655994461, ['That’s', 'why', 'it', 'has', 'become', 'more', 'critical', 'than', 'ever', 'for', 'educational', 'institutions', 'to', 'integrate', 'new', 'cloud', 'and', 'AI', 'technologies']), (0.10001137283486655, ['The', 'program', 'is', 'an', 'attempt', 'to', 'ramp', 'up', 'the', 'institutional', 'set-up', 'and', 'build', 'capabilities', 'among', 'the', 'educators', 'to', 'educate', 'the', 'workforce', 'of', 'tomorrow.\"', 'The', 'program', 'aims', 'to', 'build', 'up', 'the', 'cognitive', 'skills', 'and', 'in-depth', 'understanding', 'of', 'developing', 'intelligent', 'cloud', 'connected', 'solutions', 'for', 'applications', 'across', 'industry']), (0.09916750119894317, ['This', 'will', 'require', 'more', 'collaborations', 'and', 'training', 'and', 'working', 'with', 'AI']), (0.09277191614415067, ['The', 'program', 'was', 'developed', 'to', 'provide', 'job', 'ready', 'skills', 'to', 'programmers', 'who', 'wanted', 'to', 'hone', 'their', 'skills', 'in', 'AI', 'and', 'data', 'science', 'with', 'a', 'series', 'of', 'online', 'courses', 'which', 'featured', 'hands-on', 'labs', 'and', 'expert', 'instructors', 'as', 'well'])]\n",
            "Summarize Text: \n",
            " Envisioned as a three-year collaborative program, Intelligent Cloud Hub will support around 100 institutions with AI infrastructure, course content and curriculum, developer support, development tools and give students access to cloud and AI services. The company will provide AI development tools and Azure AI services such as Microsoft Cognitive Services, Bot Services and Azure Machine Learning.According to Manish Prakash, Country General Manager-PS, Health and Education, Microsoft India, said, \"With AI being the defining technology of our time, it is transforming lives and industry and the jobs of tomorrow will require a different skillset\n"
          ],
          "name": "stdout"
        }
      ]
    }
  ]
}