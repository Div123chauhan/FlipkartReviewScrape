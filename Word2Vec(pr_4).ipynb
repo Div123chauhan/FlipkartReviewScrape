{
  "nbformat": 4,
  "nbformat_minor": 0,
  "metadata": {
    "colab": {
      "name": "Word2Vec(pr_4).ipynb",
      "provenance": [],
      "collapsed_sections": []
    },
    "kernelspec": {
      "name": "python3",
      "display_name": "Python 3"
    }
  },
  "cells": [
    {
      "cell_type": "code",
      "metadata": {
        "id": "hGczjfmSjm8N"
      },
      "source": [
        "from gensim.models import Word2Vec"
      ],
      "execution_count": null,
      "outputs": []
    },
    {
      "cell_type": "code",
      "metadata": {
        "id": "otxdkoUCj5Hx",
        "outputId": "de1f5a39-6d70-4090-da6c-8d00ee4e34d6",
        "colab": {
          "base_uri": "https://localhost:8080/",
          "height": 122
        }
      },
      "source": [
        "import nltk,csv,numpy\n",
        "nltk.download('punkt')\n",
        "from nltk import sent_tokenize, word_tokenize, pos_tag\n",
        "sentences=[]\n",
        "reader = csv.reader(open('/content/FlipkartReview.csv', 'rU'), delimiter= \",\",quotechar='|')\n",
        "for line in reader:\n",
        "    for field in line:\n",
        "      sentences.append(word_tokenize(field))\n",
        "print(sentences)"
      ],
      "execution_count": null,
      "outputs": [
        {
          "output_type": "stream",
          "text": [
            "[nltk_data] Downloading package punkt to /root/nltk_data...\n",
            "[nltk_data]   Unzipping tokenizers/punkt.zip.\n",
            "[['Title'], ['Review'], ['Rating'], ['Reviewer_name'], ['Very', 'Good'], ['``', 'I', 'ordered', 'this', 'mobile', 'for', 'my', 'sister', '.', '(', 'Online', 'classes', ')', 'It', 'works', 'well', 'for', 'day', 'to', 'day', 'use.Here', 'is', 'my', 'review', 'after', '10', 'days', 'of', 'use', ':', 'This', 'mobile', 'is', 'good', 'for', 'you'], ['but', 'if', 'you', 'are', 'planing', 'to', 'play', 'games', 'like', 'PUBG'], ['COD', 'ect', '.', 'Don', '’', 't', 'buy', 'this', 'Camera-', '3/5', 'camera', 'is', 'disappointing', 'both', 'front', 'and', 'back', '.', 'Also', 'the', 'front', 'camera', 'is', 'slow', 'as', 'well.Face', 'lock-', '3/5', 'average', 'one'], ['it', 'don', '’', 't', 'work', 'in', 'low', 'light', '.', 'Display-', '4/5', 'not', 'a', 'great', 'display', 'though', 'it', '’', 's', 'adjustable.Battery-', '4.5/5', 'it', 'has', 'good', 'battery', 'backup', '4000mah', 'but', 'a', '...', 'READ', 'MORE', \"''\"], ['4.3'], ['Flipkart', 'Customer'], ['Nice', 'product'], ['``', 'I', 'really', 'miss', 'the', 'finger', 'print', 'scanner', 'and', 'USB', 'type', 'c', 'port', '.', 'While', 'I', 'can', 'live', 'with', 'the', 'former'], ['the', 'later', 'is', 'a', 'crime', 'in', '2020.Apart', 'from', 'that'], ['everything', 'else', 'is', 'good', '.', 'I', 'really', 'liked', 'the', 'form', 'factor', '(', 'it', \"'s\", 'a', 'small', 'device', ')'], ['although', 'a', 'bit', 'slippery', '.', 'A', '5/5', 'for', 'the', 'display', '.', 'Battery', 'back-up', 'is', 'really', 'good', 'and', 'will', 'easily', 'last', '2', 'days', '(', 'with', 'medium', 'to', 'high', 'usage', ')', '.', 'Both', 'the', 'camera', 'works', 'well', 'in', 'outdoor', 'lighting', 'conditions', 'and', 'fails', 'to', 'perform', 'in', 'indoor', 'lighting', '.', 'Other', 'than', 'that'], ['the', 'camera', 'features', 'are', '...', 'READ', 'MORE', \"''\"], ['4'], ['Souvik', 'Das'], ['Perfect', 'product', '!'], ['I', 'ordered', 'this', 'phone', 'for', 'my', 'mom', '.', 'She', 'loves', 'it', '.', 'Samsung', 'has', 'really', 'made', 'a', 'good', 'handset', 'in', 'this', 'price', 'segment', '.', 'Lucky', 'to', 'grab', 'this', 'at', '8999', '.', 'Overall', 'experience', 'is', 'good', 'just', 'that', 'camera', 'quality', 'is', 'not', 'up', 'to', 'the', 'mark', 'as', 'far', 'as', 'brand', 'Samsung', 'is', 'concerned', '.', 'Also', 'I', 'am', 'happy', 'it', \"'s\", 'not', 'a', 'Chinese', 'product.READ', 'MORE'], ['4'], ['khusboo', 'kashyap'], ['Very', 'Good'], ['``', 'Bought', 'for', 'my', 'mom'], ['camera', 'quality', 'is', 'average'], ['there', 'is', 'a', 'small', 'heating', 'problem', 'but', 'its', 'not', 'a', 'big', 'deal'], ['Charging', 'is', 'slow', '.', 'video', 'quality', 'excellent'], ['good', 'battery', 'backup'], ['if', 'you', 'are', 'a', 'heavy', 'user', 'and', 'a', 'gamer', 'its', 'not', 'a', 'good', 'option', '.', 'Perfect', 'choice', 'for', 'elderly', 'and', 'regular', 'average', 'users'], ['you', 'can', 'get', 'better', 'phone', 'with', 'the', 'same', 'price', 'which', 'have', 'better', 'performance', 'but', 'almost', 'all', 'phones', 'are', 'from', 'chinese', 'brands', '.', 'All', 'cons', 'I', 'have', 'mentioned', 'above', 'is', 'nothing', 'if', 'we', 'compare', 'with', 'our', 'love', 'for', 'mother', 'india'], ['BOY', '...', 'READ', 'MORE', \"''\"], ['5'], ['Flipkart', 'Customer'], ['Awesome'], ['I', 'am', 'truly', 'satisfied', 'with', 'the', 'performance', 'of', 'the', 'phone.First', 'its', 'budget', 'phone', 'so', 'dont', 'expect', 'much', 'from', 'this', 'phone', '...', '.', 'coz', 'its', 'doesnt', 'have', 'feautures', 'like', 'finger', 'print', 'and', 'ctype', 'quick', 'charge', 'and', 'camera', 'quality', 'is', 'also', 'okay', 'but', 'not', 'bad', '...', '.', 'If', 'u', 'really', 'looking', 'for', 'small', 'screen', 'phones', 'its', 'the', 'best', 'one', 'with', 'snapdragon', '439', '(', '12nm', ')', 'processor', 'with', 'better', 'performance', 'than', 'mtk', 'and', 'exynos', '...', 'so', 'i', 'recommend', 'this', 'who', 'really', 'likes', 'small', 'screen', 'lovers', 'and', 'who', 'doesnt', 'like', 'extra', 'added', 'features', '...', 'Moreover', 'the', 'b', '...', 'READ', 'MORE'], ['4'], ['Thadiparthi', 'Tharun'], ['Excellent'], ['``', 'Worth', 'for', 'money.But', 'no', 'fingerprint', 'sensor', '.', 'But', 'has', 'a', 'nice', 'battery', 'capacity', '.', 'I', 'am', 'not', 'into', 'playing', 'games', 'as', 'I', 'am', 'a', '9th', 'student', '.', 'But', 'nice', 'phone', 'with', 'no', 'lags', 'and', 'hangs', '.', 'If', 'you', 'get', 'it', 'in', '9000', 'or', 'below'], ['just', 'go', 'for', 'it', 'guyz.READ', 'MORE', \"''\"], ['5'], ['Supriya', 'Todkar'], ['Utterly', 'Disappointed'], ['``', 'Pros', ':', '-', 'Battery', 'with', '4000mAh', '--', '--', '4.5/5Display', 'clarity', '--', '--', '-', '3/5Cons', ':', '-1', ')', 'Pathetic/Worst', 'Camera'], ['Nokia', 'VGA', 'camera', 'is', 'much', 'better', 'wen', 'u', 'zoom', '.', 'I', 'believe', 'Samsung', 'is', 'purposely', 'reducing', 'the', 'quality', 'of', 'image', 'thru', 'there', 'World', \"'s\", 'worst', 'camera', 'app', '.', 'With', 'this', 'price', 'u', 'get', 'a', 'better', 'Camera', 'quality', 'phone', '.', 'I', 'tried', 'to', 'return', 'but', 'Flipkart', 'do', \"n't\", 'care', 'about', 'it', \"'s\", 'customers', '.', 'Best', 'thing', 'to', 'do', 'is'], ['Do', \"n't\", 'even', 'think', 'abt', 'taking', 'a', 'pic', 'at', 'night'], ['u', 'will', 'definitely', 'throw', 'the', 'phone', '.', '--', '--', '--', '--', '--', '>', '-5/52', ')', 'Video', 'is', 'just', 'OMG', '...', 'READ', 'MORE', \"''\"], ['5'], ['Deepak', 'R'], ['Worth', 'the', 'money'], ['``', 'Its', 'been', 'more', 'than', 'a', 'week', 'since', 'i', 'bought', 'this', 'Mobile', 'phone', 'for', 'my', 'Mother', '.', 'I', 'like', 'the', 'look', 'and', 'feel', '.', 'The', 'performance', 'is', 'good', 'and', 'a', 'fine', 'display', '.', 'It', 'has', 'a', 'decent', 'battery', '.', 'I', \"'m\", 'little', 'bit', 'disappointed', 'with', 'the', 'camera', '.', 'Because', 'the', 'configuration', 'mentioned', 'for', 'rear', 'camera', 'is', '13', 'MP', '.', 'But', 'does', \"n't\", 'look', 'like', 'that..', 'The', 'picture', 'quality', 'is', 'low', 'and', 'not', 'up', 'to', 'the', 'mark', 'of', '13MP.The', 'speaker', 'is', 'pretty', 'average', '.', 'Not', 'so', 'effective', 'when', 'we', 'put', 'the', 'call', 'on', 'loudspeaker.But', 'over', 'all'], ['i', 'suggest', 'this', 'as', 'a', 'decent', 'ch', '...', 'READ', 'MORE', \"''\"], ['1'], ['T.N.ARUN', 'SUDHARSAN'], ['Terrible', 'product'], ['``', 'Hopeless', 'product', 'from', 'SamsungAt', 'this', 'price', 'range', 'there', 'are', 'much', 'better', 'options', 'available', '.', 'Please', 'dont', 'waste', 'you', 'money', 'on', 'this', '.', 'I', \"'ll\", 'put', 'down', 'my', 'feedback', 'here', '.', 'I', 'feel', 'more', 'terrible', 'because', 'i', 'brought', 'it', 'for', 'my', 'mother', 'and', 'that', 'too'], ['the', 'phone', 'was', 'on', 'Flash', 'Sale', '.', '(', '*facepalm*', ')', 'CameraEven', 'local', 'phones', 'these', 'days', 'have', 'good', 'camera', 'performance', 'but', 'this', 'one', 'has', 'below', 'standard', 'camera', '.', 'There', 'is', 'grains', 'in', 'the', 'screen', 'when', 'you', 'click', 'moderate-low', 'light', 'pics', '.', 'Build', 'qualityIt', 'has', 'a', 'plastic', 'back', 'and', 'you', '...', 'READ', 'MORE', \"''\"], ['4'], ['Abin', 'Rajan'], ['Nice', 'product'], ['The', 'camera', 'quality', 'is', 'poor', 'compared', 'to', 'other', 'brands', 'available', 'at', 'this', 'range', '.', 'The', 'phone', 'looks', 'decent', 'and', 'is', 'easy', 'to', 'use', 'single', 'handed', '.', 'Display', 'is', 'one', 'of', 'the', 'major', 'highlight', '.', 'Overall', 'if', 'you', 'are', 'a', 'Samsung', 'lover', 'and', 'looking', 'for', 'a', 'budget', 'smartphone', 'below', '10k', 'this', 'one', 'is', 'for', 'you', '.', 'They', 'are', 'not', 'providing', 'transparent', 'case', 'in', 'the', 'box.READ', 'MORE'], ['1'], ['Vignesh', 'V', 'Gopal']]\n"
          ],
          "name": "stdout"
        },
        {
          "output_type": "stream",
          "text": [
            "/usr/local/lib/python3.6/dist-packages/ipykernel_launcher.py:5: DeprecationWarning: 'U' mode is deprecated\n",
            "  \"\"\"\n"
          ],
          "name": "stderr"
        }
      ]
    },
    {
      "cell_type": "code",
      "metadata": {
        "id": "d6l1qbOrlAF8"
      },
      "source": [
        "from gensim.models import FastText\n",
        "model = Word2Vec(sentences, size=20, min_count=1, window=2,sg=0)\n",
        "#model = FastText(sentences, size=20, min_count=1, window=2,sg=0)"
      ],
      "execution_count": null,
      "outputs": []
    },
    {
      "cell_type": "code",
      "metadata": {
        "id": "AUyZQIeWlDtP",
        "outputId": "f00480a6-0bb7-47be-f8d0-ed65f3eb113b",
        "colab": {
          "base_uri": "https://localhost:8080/",
          "height": 156
        }
      },
      "source": [
        "model['this']"
      ],
      "execution_count": null,
      "outputs": [
        {
          "output_type": "stream",
          "text": [
            "/usr/local/lib/python3.6/dist-packages/ipykernel_launcher.py:1: DeprecationWarning: Call to deprecated `__getitem__` (Method will be removed in 4.0.0, use self.wv.__getitem__() instead).\n",
            "  \"\"\"Entry point for launching an IPython kernel.\n"
          ],
          "name": "stderr"
        },
        {
          "output_type": "execute_result",
          "data": {
            "text/plain": [
              "array([ 0.00255406, -0.01891297, -0.01436054,  0.01015202,  0.02046973,\n",
              "       -0.01508475, -0.00443799,  0.01624553, -0.02088124, -0.01982679,\n",
              "        0.01950826, -0.00237142,  0.01556885, -0.00464738,  0.00922685,\n",
              "       -0.00635305,  0.00043834, -0.01063216,  0.00859862, -0.00574815],\n",
              "      dtype=float32)"
            ]
          },
          "metadata": {
            "tags": []
          },
          "execution_count": 4
        }
      ]
    },
    {
      "cell_type": "code",
      "metadata": {
        "id": "Y3UZUokAltDE",
        "outputId": "471bf040-f228-43be-e3fd-f6ddc3845c1c",
        "colab": {
          "base_uri": "https://localhost:8080/",
          "height": 156
        }
      },
      "source": [
        "model['is']"
      ],
      "execution_count": null,
      "outputs": [
        {
          "output_type": "stream",
          "text": [
            "/usr/local/lib/python3.6/dist-packages/ipykernel_launcher.py:1: DeprecationWarning: Call to deprecated `__getitem__` (Method will be removed in 4.0.0, use self.wv.__getitem__() instead).\n",
            "  \"\"\"Entry point for launching an IPython kernel.\n"
          ],
          "name": "stderr"
        },
        {
          "output_type": "execute_result",
          "data": {
            "text/plain": [
              "array([ 0.02028034, -0.00022664, -0.00050968, -0.00735865, -0.0192455 ,\n",
              "        0.01261262, -0.00073656, -0.01411636,  0.00318534,  0.02281497,\n",
              "        0.0242647 ,  0.00992498,  0.00134927,  0.00620792,  0.00227989,\n",
              "       -0.00837242, -0.0123754 ,  0.00553096, -0.01259787, -0.00328897],\n",
              "      dtype=float32)"
            ]
          },
          "metadata": {
            "tags": []
          },
          "execution_count": 5
        }
      ]
    },
    {
      "cell_type": "code",
      "metadata": {
        "id": "2uFISeOIlzSH",
        "outputId": "8d6d6614-589d-43c8-fdb0-83fd22f36e91",
        "colab": {
          "base_uri": "https://localhost:8080/",
          "height": 122
        }
      },
      "source": [
        "model.similarity('Review','product')"
      ],
      "execution_count": null,
      "outputs": [
        {
          "output_type": "stream",
          "text": [
            "/usr/local/lib/python3.6/dist-packages/ipykernel_launcher.py:1: DeprecationWarning: Call to deprecated `similarity` (Method will be removed in 4.0.0, use self.wv.similarity() instead).\n",
            "  \"\"\"Entry point for launching an IPython kernel.\n",
            "/usr/local/lib/python3.6/dist-packages/gensim/matutils.py:737: FutureWarning: Conversion of the second argument of issubdtype from `int` to `np.signedinteger` is deprecated. In future, it will be treated as `np.int64 == np.dtype(int).type`.\n",
            "  if np.issubdtype(vec.dtype, np.int):\n"
          ],
          "name": "stderr"
        },
        {
          "output_type": "execute_result",
          "data": {
            "text/plain": [
              "0.06511628"
            ]
          },
          "metadata": {
            "tags": []
          },
          "execution_count": 8
        }
      ]
    },
    {
      "cell_type": "code",
      "metadata": {
        "id": "_k1PKKD2mkk8"
      },
      "source": [
        "import numpy as np\n",
        "from sklearn.manifold import TSNE\n",
        "import matplotlib.pyplot as plt\n",
        "\n",
        "def display_closestwords_tsnescatterplot(model, word, size):\n",
        "    \n",
        "    arr = np.empty((0,size), dtype='f')\n",
        "    word_labels = [word]\n",
        "\n",
        "    close_words = model.similar_by_word(word)\n",
        "    arr = np.append(arr, np.array([model[word]]), axis=0)\n",
        "    for wrd_score in close_words:\n",
        "      wrd_vector = model[wrd_score[0]]\n",
        "      word_labels.append(wrd_score[0])\n",
        "      arr = np.append(arr, np.array([wrd_vector]), axis=0)\n",
        "      \n",
        "    tsne = TSNE(n_components=2, random_state=0)\n",
        "    np.set_printoptions(suppress=True)\n",
        "    Y = tsne.fit_transform(arr)\n",
        "    x_coords = Y[:, 0]\n",
        "    y_coords = Y[:, 1]\n",
        "    plt.scatter(x_coords, y_coords)\n",
        "    for label, x, y in zip(word_labels, x_coords, y_coords):\n",
        "        plt.annotate(label, xy=(x, y), xytext=(0, 0), textcoords='offset points')\n",
        "        plt.xlim(x_coords.min()+0.00005, x_coords.max()+0.00005)\n",
        "        plt.ylim(y_coords.min()+0.00005, y_coords.max()+0.00005)\n",
        "        plt.show()"
      ],
      "execution_count": null,
      "outputs": []
    },
    {
      "cell_type": "code",
      "metadata": {
        "id": "hRnH2LninF3f",
        "outputId": "7cbfbf9a-5271-4fdc-daf4-a9681f066a75",
        "colab": {
          "base_uri": "https://localhost:8080/",
          "height": 1000
        }
      },
      "source": [
        "display_closestwords_tsnescatterplot(model, 'Review', 20)"
      ],
      "execution_count": null,
      "outputs": [
        {
          "output_type": "stream",
          "text": [
            "/usr/local/lib/python3.6/dist-packages/ipykernel_launcher.py:10: DeprecationWarning: Call to deprecated `similar_by_word` (Method will be removed in 4.0.0, use self.wv.similar_by_word() instead).\n",
            "  # Remove the CWD from sys.path while we load stuff.\n",
            "/usr/local/lib/python3.6/dist-packages/gensim/matutils.py:737: FutureWarning: Conversion of the second argument of issubdtype from `int` to `np.signedinteger` is deprecated. In future, it will be treated as `np.int64 == np.dtype(int).type`.\n",
            "  if np.issubdtype(vec.dtype, np.int):\n",
            "/usr/local/lib/python3.6/dist-packages/ipykernel_launcher.py:11: DeprecationWarning: Call to deprecated `__getitem__` (Method will be removed in 4.0.0, use self.wv.__getitem__() instead).\n",
            "  # This is added back by InteractiveShellApp.init_path()\n",
            "/usr/local/lib/python3.6/dist-packages/ipykernel_launcher.py:13: DeprecationWarning: Call to deprecated `__getitem__` (Method will be removed in 4.0.0, use self.wv.__getitem__() instead).\n",
            "  del sys.path[0]\n"
          ],
          "name": "stderr"
        },
        {
          "output_type": "display_data",
          "data": {
            "image/png": "[encoded data removed]",
            "text/plain": [
              "<Figure size 432x288 with 1 Axes>"
            ]
          },
          "metadata": {
            "tags": [],
            "needs_background": "light"
          }
        },
        {
          "output_type": "display_data",
          "data": {
            "image/png": "[encoded data removed]",
            "text/plain": [
              "<Figure size 432x288 with 1 Axes>"
            ]
          },
          "metadata": {
            "tags": [],
            "needs_background": "light"
          }
        },
        {
          "output_type": "display_data",
          "data": {
            "image/png": "[encoded data removed]",
            "text/plain": [
              "<Figure size 432x288 with 1 Axes>"
            ]
          },
          "metadata": {
            "tags": [],
            "needs_background": "light"
          }
        },
        {
          "output_type": "display_data",
          "data": {
            "image/png": "[encoded data removed]",
            "text/plain": [
              "<Figure size 432x288 with 1 Axes>"
            ]
          },
          "metadata": {
            "tags": [],
            "needs_background": "light"
          }
        },
        {
          "output_type": "display_data",
          "data": {
            "image/png": "[encoded data removed]",
            "text/plain": [
              "<Figure size 432x288 with 1 Axes>"
            ]
          },
          "metadata": {
            "tags": [],
            "needs_background": "light"
          }
        },
        {
          "output_type": "display_data",
          "data": {
            "image/png": "[encoded data removed]",
            "text/plain": [
              "<Figure size 432x288 with 1 Axes>"
            ]
          },
          "metadata": {
            "tags": [],
            "needs_background": "light"
          }
        },
        {
          "output_type": "display_data",
          "data": {
            "image/png": "[encoded data removed]",
            "text/plain": [
              "<Figure size 432x288 with 1 Axes>"
            ]
          },
          "metadata": {
            "tags": [],
            "needs_background": "light"
          }
        },
        {
          "output_type": "display_data",
          "data": {
            "image/png": "[encoded data removed]",
            "text/plain": [
              "<Figure size 432x288 with 1 Axes>"
            ]
          },
          "metadata": {
            "tags": [],
            "needs_background": "light"
          }
        },
        {
          "output_type": "display_data",
          "data": {
            "image/png": "[encoded data removed]",
            "text/plain": [
              "<Figure size 432x288 with 1 Axes>"
            ]
          },
          "metadata": {
            "tags": [],
            "needs_background": "light"
          }
        },
        {
          "output_type": "display_data",
          "data": {
            "image/png": "[encoded data removed]",
            "text/plain": [
              "<Figure size 432x288 with 1 Axes>"
            ]
          },
          "metadata": {
            "tags": [],
            "needs_background": "light"
          }
        },
        {
          "output_type": "display_data",
          "data": {
            "image/png": "[encoded data removed]",
            "text/plain": [
              "<Figure size 432x288 with 1 Axes>"
            ]
          },
          "metadata": {
            "tags": [],
            "needs_background": "light"
          }
        }
      ]
    },
    {
      "cell_type": "code",
      "metadata": {
        "id": "Ld_Lut6_nk_q",
        "outputId": "f689b1e0-7a35-4c16-f6fb-c8011bf53f52",
        "colab": {
          "base_uri": "https://localhost:8080/",
          "height": 71
        }
      },
      "source": [
        "import numpy as np\n",
        " \n",
        "def sent_vectorizer(sent, model):\n",
        "    sent_vec = np.zeros(20)\n",
        "    numw = 0\n",
        "    for w in sent:\n",
        "        try:\n",
        "            sent_vec = np.add(sent_vec, model[w])\n",
        "            numw+=1\n",
        "        except:\n",
        "            pass\n",
        "    return sent_vec / np.sqrt(sent_vec.dot(sent_vec))\n",
        " \n",
        "V=[]\n",
        "for sentence in sentences:\n",
        "    V.append(sent_vectorizer(sentence, model))"
      ],
      "execution_count": null,
      "outputs": [
        {
          "output_type": "stream",
          "text": [
            "/usr/local/lib/python3.6/dist-packages/ipykernel_launcher.py:8: DeprecationWarning: Call to deprecated `__getitem__` (Method will be removed in 4.0.0, use self.wv.__getitem__() instead).\n",
            "  \n"
          ],
          "name": "stderr"
        }
      ]
    }
  ]
}