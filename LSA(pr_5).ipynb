{
  "nbformat": 4,
  "nbformat_minor": 0,
  "metadata": {
    "colab": {
      "name": "LSA(pr_5).ipynb",
      "provenance": [],
      "collapsed_sections": []
    },
    "kernelspec": {
      "name": "python3",
      "display_name": "Python 3"
    }
  },
  "cells": [
    {
      "cell_type": "code",
      "metadata": {
        "id": "W6XlX9T4s5et",
        "outputId": "9e1138e0-9dbb-4530-d714-679da57da24d",
        "colab": {
          "base_uri": "https://localhost:8080/",
          "height": 51
        }
      },
      "source": [
        "import pandas as pd\n",
        "from sklearn.feature_extraction.text import TfidfVectorizer\n",
        "import nltk\n",
        "from sklearn.decomposition import TruncatedSVD\n",
        "# If nltk stop word is not downloaded\n",
        "nltk.download('stopwords')\n",
        "from nltk.corpus import stopwords"
      ],
      "execution_count": null,
      "outputs": [
        {
          "output_type": "stream",
          "text": [
            "[nltk_data] Downloading package stopwords to /root/nltk_data...\n",
            "[nltk_data]   Unzipping corpora/stopwords.zip.\n"
          ],
          "name": "stdout"
        }
      ]
    },
    {
      "cell_type": "code",
      "metadata": {
        "id": "thhVmCBuudEI",
        "outputId": "78721136-2ffb-4833-8b92-3c73aa4a3838",
        "colab": {
          "base_uri": "https://localhost:8080/",
          "height": 122
        }
      },
      "source": [
        "import nltk,csv,numpy\n",
        "nltk.download('punkt')\n",
        "from nltk import sent_tokenize, word_tokenize, pos_tag\n",
        "sentences=[]\n",
        "reader = csv.reader(open('/content/FlipkartReview.csv', 'rU'), delimiter= \",\",quotechar='|')\n",
        "for line in reader:\n",
        "    for field in line:\n",
        "      sentences.append(field)\n",
        "print(sentences)"
      ],
      "execution_count": null,
      "outputs": [
        {
          "output_type": "stream",
          "text": [
            "[nltk_data] Downloading package punkt to /root/nltk_data...\n",
            "[nltk_data]   Unzipping tokenizers/punkt.zip.\n",
            "['Title', 'Review', 'Rating', 'Reviewer_name', 'Very Good', '\"I ordered this mobile for my sister. (Online classes)It works well for day to day use.Here is my review after 10 days of use:This mobile is good for you', ' but if you are planing to play games like PUBG', ' COD ect. Don’t buy this Camera- 3/5 camera is disappointing both front and back. Also the front camera is slow as well.Face lock- 3/5 average one ', ' it don’t work in low light. Display- 4/5 not a great display though it’s adjustable.Battery- 4.5/5 it has good battery backup 4000mah but a...READ MORE\"', '4.3', 'Flipkart Customer', 'Nice product', '\"I really miss the finger print scanner and USB type c port. While I can live with the former', ' the later is a crime in 2020.Apart from that', \" everything else is good. I really liked the form factor (it's a small device)\", ' although a bit slippery. A 5/5 for the display. Battery back-up is really good and will easily last 2 days (with medium to high usage). Both the camera works well in outdoor lighting conditions and fails to perform in indoor lighting. Other than that', '  the camera features are ...READ MORE\"', '4', 'Souvik  Das', 'Perfect product!', \"I ordered this phone for my mom. She loves it. Samsung has really made a good handset in this price segment. Lucky to grab this at 8999. Overall experience is good just that camera quality is not up to the mark as far as brand Samsung is concerned. Also I am happy it's not a Chinese product.READ MORE\", '4', 'khusboo kashyap', 'Very Good', '\"Bought for my mom', ' camera quality is average', 'there is a small heating problem but its not a big deal', '  Charging is slow. video quality excellent ', ' good battery backup ', 'if you are a heavy user and a gamer its not a good option. Perfect choice for elderly and regular average  users', ' you can get better phone with the same price which have better performance but almost all phones are from chinese brands. All cons I have mentioned above is nothing if we compare with our love for mother india ', ' BOY...READ MORE\"', '5', 'Flipkart Customer', 'Awesome', 'I am truly satisfied with the performance of the phone.First its budget phone so dont expect much from this phone.... coz its doesnt have feautures like finger print and ctype quick charge and camera quality is also okay but not bad.... If u really looking for small screen phones its the best one with snapdragon 439(12nm) processor with better performance than mtk and exynos... so i recommend this who really likes small screen lovers and who doesnt like extra added features... Moreover the b...READ MORE', '4', 'Thadiparthi Tharun', 'Excellent', '\"Worth for money.But no fingerprint sensor. But has a nice battery capacity. I am not into playing games as I am a 9th student. But nice phone with no lags and hangs. If you get it in 9000 or below ', ' just go for it guyz.READ MORE\"', '5', 'Supriya  Todkar ', 'Utterly Disappointed', '\"Pros:- Battery with 4000mAh ---- 4.5/5Display clarity ----- 3/5Cons:-1) Pathetic/Worst Camera', \" Nokia VGA camera is much better wen u zoom. I believe Samsung is purposely reducing the quality of image thru there World's worst camera app. With this price u get a better Camera quality phone. I tried to return but Flipkart don't care about it's customers. Best thing to do is\", \" Don't even think abt taking a pic at night\", ' u will definitely throw the phone. ----------> -5/52) Video is just OMG...READ MORE\"', '5', 'Deepak R', 'Worth the money', '\"Its been more than a week since i bought this Mobile phone for my Mother. I like the look and feel. The performance is good and a fine display. It has a decent battery. I\\'m little bit disappointed with the camera. Because the configuration mentioned for rear camera is 13 MP. But doesn\\'t look like that.. The picture quality is low and not up to the mark of 13MP.The speaker is pretty average. Not so effective when we put the call on loudspeaker.But over all ', ' i suggest this as a decent ch...READ MORE\"', '1', 'T.N.ARUN SUDHARSAN', 'Terrible product', '\"Hopeless product from SamsungAt this price range there are much better options available. Please dont waste you money on this. I\\'ll put down my feedback here. I feel more terrible because i brought it for my mother and that too', ' the phone was on Flash Sale. (*facepalm*) CameraEven local phones these days have good camera performance but this one has below standard camera. There is grains in the screen when you click moderate-low light pics. Build qualityIt has a plastic back and you ...READ MORE\"', '4', 'Abin Rajan', 'Nice product', 'The camera quality is poor compared to other brands available at this range. The phone looks decent and is easy to use single handed. Display is one of the major highlight. Overall if you are a Samsung lover and looking for a budget smartphone below 10k this one is for you. They are not providing transparent case in the box.READ MORE', '1', 'Vignesh V Gopal ']\n"
          ],
          "name": "stdout"
        },
        {
          "output_type": "stream",
          "text": [
            "/usr/local/lib/python3.6/dist-packages/ipykernel_launcher.py:5: DeprecationWarning: 'U' mode is deprecated\n",
            "  \"\"\"\n"
          ],
          "name": "stderr"
        }
      ]
    },
    {
      "cell_type": "code",
      "metadata": {
        "id": "8afA3_AhvNLM",
        "outputId": "caa8920a-7638-4787-842a-1caf839df52d",
        "colab": {
          "base_uri": "https://localhost:8080/",
          "height": 204
        }
      },
      "source": [
        "df = pd.DataFrame()\n",
        "df[\"documents\"] = sentences\n",
        "df.head()\n",
        "df['clean_documents'] = df['documents'].str.replace(\"[^a-zA-Z#]\", \" \")\n",
        "df['clean_documents'] = df['clean_documents'].fillna('').apply(lambda x: ' '.join([w for w in x.split() if len(w)>2]))\n",
        "df['clean_documents'] = df['clean_documents'].fillna('').apply(lambda x: x.lower())\n",
        "\n",
        "df.head()"
      ],
      "execution_count": null,
      "outputs": [
        {
          "output_type": "execute_result",
          "data": {
            "text/html": [
              "<div>\n",
              "<style scoped>\n",
              "    .dataframe tbody tr th:only-of-type {\n",
              "        vertical-align: middle;\n",
              "    }\n",
              "\n",
              "    .dataframe tbody tr th {\n",
              "        vertical-align: top;\n",
              "    }\n",
              "\n",
              "    .dataframe thead th {\n",
              "        text-align: right;\n",
              "    }\n",
              "</style>\n",
              "<table border=\"1\" class=\"dataframe\">\n",
              "  <thead>\n",
              "    <tr style=\"text-align: right;\">\n",
              "      <th></th>\n",
              "      <th>documents</th>\n",
              "      <th>clean_documents</th>\n",
              "    </tr>\n",
              "  </thead>\n",
              "  <tbody>\n",
              "    <tr>\n",
              "      <th>0</th>\n",
              "      <td>Title</td>\n",
              "      <td>title</td>\n",
              "    </tr>\n",
              "    <tr>\n",
              "      <th>1</th>\n",
              "      <td>Review</td>\n",
              "      <td>review</td>\n",
              "    </tr>\n",
              "    <tr>\n",
              "      <th>2</th>\n",
              "      <td>Rating</td>\n",
              "      <td>rating</td>\n",
              "    </tr>\n",
              "    <tr>\n",
              "      <th>3</th>\n",
              "      <td>Reviewer_name</td>\n",
              "      <td>reviewer name</td>\n",
              "    </tr>\n",
              "    <tr>\n",
              "      <th>4</th>\n",
              "      <td>Very Good</td>\n",
              "      <td>very good</td>\n",
              "    </tr>\n",
              "  </tbody>\n",
              "</table>\n",
              "</div>"
            ],
            "text/plain": [
              "       documents clean_documents\n",
              "0          Title           title\n",
              "1         Review          review\n",
              "2         Rating          rating\n",
              "3  Reviewer_name   reviewer name\n",
              "4      Very Good       very good"
            ]
          },
          "metadata": {
            "tags": []
          },
          "execution_count": 3
        }
      ]
    },
    {
      "cell_type": "code",
      "metadata": {
        "id": "Raj2A6Tovo6v",
        "outputId": "229468e5-b49f-4e6f-b455-f3d49e277a7f",
        "colab": {
          "base_uri": "https://localhost:8080/",
          "height": 136
        }
      },
      "source": [
        "# TF-IDF vector\n",
        "vectorizer = TfidfVectorizer(stop_words='english', smooth_idf=True)\n",
        "X = vectorizer.fit_transform(df['clean_documents'])\n",
        "X.toarray()"
      ],
      "execution_count": null,
      "outputs": [
        {
          "output_type": "execute_result",
          "data": {
            "text/plain": [
              "array([[0., 0., 0., ..., 0., 0., 0.],\n",
              "       [0., 0., 0., ..., 0., 0., 0.],\n",
              "       [0., 0., 0., ..., 0., 0., 0.],\n",
              "       ...,\n",
              "       [0., 0., 0., ..., 0., 0., 0.],\n",
              "       [0., 0., 0., ..., 0., 0., 0.],\n",
              "       [0., 0., 0., ..., 0., 0., 0.]])"
            ]
          },
          "metadata": {
            "tags": []
          },
          "execution_count": 5
        }
      ]
    },
    {
      "cell_type": "code",
      "metadata": {
        "id": "id0srykRvzkm"
      },
      "source": [
        "# SVD represent documents and terms in vectors \n",
        "svd_model = TruncatedSVD(n_components=2, algorithm='randomized', n_iter=100, random_state=122)\n",
        "lsa = svd_model.fit_transform(X)"
      ],
      "execution_count": null,
      "outputs": []
    },
    {
      "cell_type": "code",
      "metadata": {
        "id": "cfmzNo2Jv3S3",
        "outputId": "b36271cb-40f8-40ea-e225-222e55b3b272",
        "colab": {
          "base_uri": "https://localhost:8080/",
          "height": 419
        }
      },
      "source": [
        "#Documents - Topic vector\n",
        "pd.options.display.float_format = '{:,.16f}'.format\n",
        "topic_encoded_df = pd.DataFrame(lsa, columns = [\"topic_1\", \"topic_2\"])\n",
        "topic_encoded_df[\"documents\"] = df['clean_documents']\n",
        "display(topic_encoded_df[[\"documents\", \"topic_1\", \"topic_2\"]])"
      ],
      "execution_count": null,
      "outputs": [
        {
          "output_type": "display_data",
          "data": {
            "text/html": [
              "<div>\n",
              "<style scoped>\n",
              "    .dataframe tbody tr th:only-of-type {\n",
              "        vertical-align: middle;\n",
              "    }\n",
              "\n",
              "    .dataframe tbody tr th {\n",
              "        vertical-align: top;\n",
              "    }\n",
              "\n",
              "    .dataframe thead th {\n",
              "        text-align: right;\n",
              "    }\n",
              "</style>\n",
              "<table border=\"1\" class=\"dataframe\">\n",
              "  <thead>\n",
              "    <tr style=\"text-align: right;\">\n",
              "      <th></th>\n",
              "      <th>documents</th>\n",
              "      <th>topic_1</th>\n",
              "      <th>topic_2</th>\n",
              "    </tr>\n",
              "  </thead>\n",
              "  <tbody>\n",
              "    <tr>\n",
              "      <th>0</th>\n",
              "      <td>title</td>\n",
              "      <td>-0.0000000000000000</td>\n",
              "      <td>-0.0000000000000000</td>\n",
              "    </tr>\n",
              "    <tr>\n",
              "      <th>1</th>\n",
              "      <td>review</td>\n",
              "      <td>0.0201398528547108</td>\n",
              "      <td>-0.0091127899841094</td>\n",
              "    </tr>\n",
              "    <tr>\n",
              "      <th>2</th>\n",
              "      <td>rating</td>\n",
              "      <td>0.0000000000000000</td>\n",
              "      <td>0.0000000000000000</td>\n",
              "    </tr>\n",
              "    <tr>\n",
              "      <th>3</th>\n",
              "      <td>reviewer name</td>\n",
              "      <td>0.0000000000000000</td>\n",
              "      <td>-0.0000000000000000</td>\n",
              "    </tr>\n",
              "    <tr>\n",
              "      <th>4</th>\n",
              "      <td>very good</td>\n",
              "      <td>0.6598434309239757</td>\n",
              "      <td>-0.2576301868907325</td>\n",
              "    </tr>\n",
              "    <tr>\n",
              "      <th>...</th>\n",
              "      <td>...</td>\n",
              "      <td>...</td>\n",
              "      <td>...</td>\n",
              "    </tr>\n",
              "    <tr>\n",
              "      <th>59</th>\n",
              "      <td>abin rajan</td>\n",
              "      <td>0.0000000000000000</td>\n",
              "      <td>0.0000000000000001</td>\n",
              "    </tr>\n",
              "    <tr>\n",
              "      <th>60</th>\n",
              "      <td>nice product</td>\n",
              "      <td>0.2560999696119261</td>\n",
              "      <td>0.8807553171953303</td>\n",
              "    </tr>\n",
              "    <tr>\n",
              "      <th>61</th>\n",
              "      <td>the camera quality poor compared other brands ...</td>\n",
              "      <td>0.2362705850166001</td>\n",
              "      <td>-0.0292014815307756</td>\n",
              "    </tr>\n",
              "    <tr>\n",
              "      <th>62</th>\n",
              "      <td></td>\n",
              "      <td>0.0000000000000000</td>\n",
              "      <td>-0.0000000000000000</td>\n",
              "    </tr>\n",
              "    <tr>\n",
              "      <th>63</th>\n",
              "      <td>vignesh gopal</td>\n",
              "      <td>-0.0000000000000000</td>\n",
              "      <td>0.0000000000000000</td>\n",
              "    </tr>\n",
              "  </tbody>\n",
              "</table>\n",
              "<p>64 rows × 3 columns</p>\n",
              "</div>"
            ],
            "text/plain": [
              "                                            documents  ...             topic_2\n",
              "0                                               title  ... -0.0000000000000000\n",
              "1                                              review  ... -0.0091127899841094\n",
              "2                                              rating  ...  0.0000000000000000\n",
              "3                                       reviewer name  ... -0.0000000000000000\n",
              "4                                           very good  ... -0.2576301868907325\n",
              "..                                                ...  ...                 ...\n",
              "59                                         abin rajan  ...  0.0000000000000001\n",
              "60                                       nice product  ...  0.8807553171953303\n",
              "61  the camera quality poor compared other brands ...  ... -0.0292014815307756\n",
              "62                                                     ... -0.0000000000000000\n",
              "63                                      vignesh gopal  ...  0.0000000000000000\n",
              "\n",
              "[64 rows x 3 columns]"
            ]
          },
          "metadata": {
            "tags": []
          }
        }
      ]
    },
    {
      "cell_type": "code",
      "metadata": {
        "id": "NsJNhoYzwDuC"
      },
      "source": [
        "dictionary = vectorizer.get_feature_names()"
      ],
      "execution_count": null,
      "outputs": []
    },
    {
      "cell_type": "code",
      "metadata": {
        "id": "d3AKqcvewJA8",
        "outputId": "ddb5231b-4b4b-4a1b-b068-02cf693d1347",
        "colab": {
          "base_uri": "https://localhost:8080/",
          "height": 419
        }
      },
      "source": [
        "encoding_matrix = pd.DataFrame(svd_model.components_, index = [\"topic_1\",\"topic_2\"], columns = (dictionary)).T\n",
        "encoding_matrix"
      ],
      "execution_count": null,
      "outputs": [
        {
          "output_type": "execute_result",
          "data": {
            "text/html": [
              "<div>\n",
              "<style scoped>\n",
              "    .dataframe tbody tr th:only-of-type {\n",
              "        vertical-align: middle;\n",
              "    }\n",
              "\n",
              "    .dataframe tbody tr th {\n",
              "        vertical-align: top;\n",
              "    }\n",
              "\n",
              "    .dataframe thead th {\n",
              "        text-align: right;\n",
              "    }\n",
              "</style>\n",
              "<table border=\"1\" class=\"dataframe\">\n",
              "  <thead>\n",
              "    <tr style=\"text-align: right;\">\n",
              "      <th></th>\n",
              "      <th>topic_1</th>\n",
              "      <th>topic_2</th>\n",
              "    </tr>\n",
              "  </thead>\n",
              "  <tbody>\n",
              "    <tr>\n",
              "      <th>abin</th>\n",
              "      <td>0.0000000000000000</td>\n",
              "      <td>0.0000000000000001</td>\n",
              "    </tr>\n",
              "    <tr>\n",
              "      <th>abt</th>\n",
              "      <td>0.0045344555536715</td>\n",
              "      <td>-0.0016818761897158</td>\n",
              "    </tr>\n",
              "    <tr>\n",
              "      <th>added</th>\n",
              "      <td>0.0115844271259152</td>\n",
              "      <td>-0.0018801947597514</td>\n",
              "    </tr>\n",
              "    <tr>\n",
              "      <th>adjustable</th>\n",
              "      <td>0.0422475199872832</td>\n",
              "      <td>-0.0158648759574360</td>\n",
              "    </tr>\n",
              "    <tr>\n",
              "      <th>apart</th>\n",
              "      <td>0.0000000000000000</td>\n",
              "      <td>0.0000000000000000</td>\n",
              "    </tr>\n",
              "    <tr>\n",
              "      <th>...</th>\n",
              "      <td>...</td>\n",
              "      <td>...</td>\n",
              "    </tr>\n",
              "    <tr>\n",
              "      <th>works</th>\n",
              "      <td>0.0347993212191025</td>\n",
              "      <td>-0.0138530266873370</td>\n",
              "    </tr>\n",
              "    <tr>\n",
              "      <th>world</th>\n",
              "      <td>0.0173911127604645</td>\n",
              "      <td>-0.0025012061672847</td>\n",
              "    </tr>\n",
              "    <tr>\n",
              "      <th>worst</th>\n",
              "      <td>0.0446263031842980</td>\n",
              "      <td>-0.0111231636321836</td>\n",
              "    </tr>\n",
              "    <tr>\n",
              "      <th>worth</th>\n",
              "      <td>0.0257252178979597</td>\n",
              "      <td>0.0601314697277614</td>\n",
              "    </tr>\n",
              "    <tr>\n",
              "      <th>zoom</th>\n",
              "      <td>0.0173911127604645</td>\n",
              "      <td>-0.0025012061672847</td>\n",
              "    </tr>\n",
              "  </tbody>\n",
              "</table>\n",
              "<p>251 rows × 2 columns</p>\n",
              "</div>"
            ],
            "text/plain": [
              "                      topic_1             topic_2\n",
              "abin       0.0000000000000000  0.0000000000000001\n",
              "abt        0.0045344555536715 -0.0016818761897158\n",
              "added      0.0115844271259152 -0.0018801947597514\n",
              "adjustable 0.0422475199872832 -0.0158648759574360\n",
              "apart      0.0000000000000000  0.0000000000000000\n",
              "...                       ...                 ...\n",
              "works      0.0347993212191025 -0.0138530266873370\n",
              "world      0.0173911127604645 -0.0025012061672847\n",
              "worst      0.0446263031842980 -0.0111231636321836\n",
              "worth      0.0257252178979597  0.0601314697277614\n",
              "zoom       0.0173911127604645 -0.0025012061672847\n",
              "\n",
              "[251 rows x 2 columns]"
            ]
          },
          "metadata": {
            "tags": []
          },
          "execution_count": 9
        }
      ]
    }
  ]
}